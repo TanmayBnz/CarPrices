{
 "cells": [
  {
   "cell_type": "code",
   "execution_count": 26,
   "metadata": {},
   "outputs": [],
   "source": [
    "import cv2 as cv\n",
    "import numpy as np\n",
    "\n",
    "fgbg = cv.createBackgroundSubtractorKNN(detectShadows=False)\n",
    "    #MOG2: Gaussian mixture-based background/foreground segmentation algorithm. better results with morphology.\n",
    "    #KNN: K-nearest neighbors background/foreground segmentation algorithm.\n",
    "\n",
    "cap = cv.VideoCapture(r\"C:\\Users\\asus\\Downloads\\volleyball_match.mp4\")\n",
    "\n",
    "while cap.isOpened():\n",
    "    ret, frame = cap.read()\n",
    "    if not ret:\n",
    "        break\n",
    "    fgmask = fgbg.apply(frame)\n",
    "\n",
    "    height, width = frame.shape[:2]\n",
    "    mask = np.zeros_like(fgmask)\n",
    "    mask[:height // 2, :] = 255 #cutting vid in half since ball is in upper half for 80%\n",
    "\n",
    "    fgmask_upper_half = cv.bitwise_and(fgmask, fgmask, mask=mask)\n",
    "\n",
    "\n",
    "\n",
    "    _, thresholded = cv.threshold(fgmask_upper_half, 127, 255, cv.THRESH_BINARY)\n",
    "\n",
    "    contours, _ = cv.findContours(thresholded, cv.RETR_EXTERNAL, cv.CHAIN_APPROX_SIMPLE)\n",
    "\n",
    "    for contour in contours:\n",
    "        area = cv.contourArea(contour)\n",
    "        if area < 100 or area > 700: \n",
    "            continue\n",
    "\n",
    "        x, y, w, h = cv.boundingRect(contour)\n",
    "        cv.rectangle(frame, (x, y), (x + w, y + h), (0, 255, 0), 2)\n",
    "\n",
    "    cv.imshow('Volleyball Tracking', frame)\n",
    "    cv.imshow('Foreground Mask', fgmask_upper_half)\n",
    "\n",
    "    if cv.waitKey(20) & 0xFF == 27:   # esc\n",
    "        break\n",
    "\n",
    "cap.release()\n",
    "cv.destroyAllWindows()\n"
   ]
  },
  {
   "cell_type": "code",
   "execution_count": null,
   "metadata": {},
   "outputs": [],
   "source": []
  }
 ],
 "metadata": {
  "kernelspec": {
   "display_name": "Python 3",
   "language": "python",
   "name": "python3"
  },
  "language_info": {
   "codemirror_mode": {
    "name": "ipython",
    "version": 3
   },
   "file_extension": ".py",
   "mimetype": "text/x-python",
   "name": "python",
   "nbconvert_exporter": "python",
   "pygments_lexer": "ipython3",
   "version": "3.12.0"
  }
 },
 "nbformat": 4,
 "nbformat_minor": 2
}
