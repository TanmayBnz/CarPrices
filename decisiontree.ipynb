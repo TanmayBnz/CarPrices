{
 "cells": [
  {
   "cell_type": "markdown",
   "metadata": {},
   "source": [
    "**OVER SAMPLING**"
   ]
  },
  {
   "cell_type": "code",
   "execution_count": 4,
   "metadata": {},
   "outputs": [
    {
     "name": "stdout",
     "output_type": "stream",
     "text": [
      "              precision    recall  f1-score   support\n",
      "\n",
      "           0       1.00      0.99      0.99    249697\n",
      "           1       0.99      1.00      0.99    249349\n",
      "\n",
      "    accuracy                           0.99    499046\n",
      "   macro avg       0.99      0.99      0.99    499046\n",
      "weighted avg       0.99      0.99      0.99    499046\n",
      "\n"
     ]
    }
   ],
   "source": [
    "import pandas as pd\n",
    "from sklearn.metrics import accuracy_score,confusion_matrix,classification_report\n",
    "from sklearn.model_selection import train_test_split\n",
    "from sklearn.tree import DecisionTreeClassifier\n",
    "from imblearn.over_sampling import SMOTE\n",
    "data = pd.read_csv(r\"C:\\Users\\asus\\Downloads\\threats.csv\")\n",
    "data.columns\n",
    "targets = data['Threat']\n",
    "attributes = data.drop('Threat', axis=1)\n",
    "smote = SMOTE()\n",
    "attributes, targets = smote.fit_resample(attributes, targets)\n",
    "train_attributes, test_attributes, train_targets, test_targets= train_test_split(attributes, targets)\n",
    "def trainmodel(train_attributes, train_targets):\n",
    "    clf = DecisionTreeClassifier()\n",
    "    clf.fit(train_attributes, train_targets)\n",
    "    return clf\n",
    "\n",
    "\n",
    "def testmodel(test_attributes, test_targets, clf):\n",
    "    predictions = clf.predict(test_attributes)\n",
    "    report = classification_report(test_targets, predictions)\n",
    "    return report\n",
    "\n",
    "\n",
    "if __name__ == \"__main__\":\n",
    "    classification_model = trainmodel(train_attributes, train_targets)\n",
    "    rep = testmodel(test_attributes, test_targets, classification_model)\n",
    "    print(rep)"
   ]
  },
  {
   "cell_type": "markdown",
   "metadata": {},
   "source": [
    "**UNDER SAMPLING**"
   ]
  },
  {
   "cell_type": "code",
   "execution_count": 3,
   "metadata": {},
   "outputs": [
    {
     "name": "stdout",
     "output_type": "stream",
     "text": [
      "              precision    recall  f1-score   support\n",
      "\n",
      "           0       0.56      0.56      0.56       480\n",
      "           1       0.56      0.56      0.56       474\n",
      "\n",
      "    accuracy                           0.56       954\n",
      "   macro avg       0.56      0.56      0.56       954\n",
      "weighted avg       0.56      0.56      0.56       954\n",
      "\n"
     ]
    }
   ],
   "source": [
    "import pandas as pd\n",
    "from sklearn.metrics import accuracy_score,confusion_matrix,classification_report\n",
    "from sklearn.model_selection import train_test_split\n",
    "from sklearn.tree import DecisionTreeClassifier\n",
    "from imblearn.over_sampling import SMOTE\n",
    "from imblearn.under_sampling import RandomUnderSampler\n",
    "data = pd.read_csv(r\"C:\\Users\\asus\\Downloads\\threats.csv\")\n",
    "data.columns\n",
    "targets = data['Threat']\n",
    "attributes = data.drop('Threat', axis=1)\n",
    "rus = RandomUnderSampler()\n",
    "attributes, targets = rus.fit_resample(attributes, targets)\n",
    "train_attributes, test_attributes, train_targets, test_targets= train_test_split(attributes, targets)\n",
    "def trainmodel(train_attributes, train_targets):\n",
    "    clf = DecisionTreeClassifier()\n",
    "    clf.fit(train_attributes, train_targets)\n",
    "    return clf\n",
    "\n",
    "\n",
    "def testmodel(test_attributes, test_targets, clf):\n",
    "    predictions = clf.predict(test_attributes)\n",
    "    report = classification_report(test_targets, predictions)\n",
    "    return report\n",
    "\n",
    "\n",
    "if __name__ == \"__main__\":\n",
    "    classification_model = trainmodel(train_attributes, train_targets)\n",
    "    rep = testmodel(test_attributes, test_targets, classification_model)\n",
    "    print(rep)"
   ]
  }
 ],
 "metadata": {
  "kernelspec": {
   "display_name": "Python 3",
   "language": "python",
   "name": "python3"
  },
  "language_info": {
   "codemirror_mode": {
    "name": "ipython",
    "version": 3
   },
   "file_extension": ".py",
   "mimetype": "text/x-python",
   "name": "python",
   "nbconvert_exporter": "python",
   "pygments_lexer": "ipython3",
   "version": "3.12.0"
  }
 },
 "nbformat": 4,
 "nbformat_minor": 2
}
