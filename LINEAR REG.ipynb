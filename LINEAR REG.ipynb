{
 "cells": [
  {
   "cell_type": "markdown",
   "id": "20b3a048",
   "metadata": {},
   "source": [
    "**CAR PRICES**"
   ]
  },
  {
   "cell_type": "markdown",
   "metadata": {},
   "source": [
    "Importing the Necessary Libraries"
   ]
  },
  {
   "cell_type": "code",
   "execution_count": 50,
   "id": "0b8ddd9e",
   "metadata": {},
   "outputs": [],
   "source": [
    "import pandas as pd\n",
    "import numpy as np\n",
    "import matplotlib.pyplot as plt\n",
    "import seaborn as sns\n",
    "from sklearn.model_selection import train_test_split"
   ]
  },
  {
   "cell_type": "markdown",
   "metadata": {},
   "source": [
    "Importing the Given Dataset and Dropping the Irrevelant Features"
   ]
  },
  {
   "cell_type": "code",
   "execution_count": 57,
   "metadata": {},
   "outputs": [],
   "source": [
    "car_price = pd.read_csv(r\"C:\\Users\\asus\\Downloads\\CarPrices\\CarPrice_Assignment.csv\")\n",
    "data = car_price.drop([\"CarName\",\"enginelocation\", \"fuelsystem\"], axis=1)"
   ]
  },
  {
   "cell_type": "markdown",
   "metadata": {},
   "source": [
    "Encoding The non-numeric Features"
   ]
  },
  {
   "cell_type": "code",
   "execution_count": 54,
   "metadata": {},
   "outputs": [
    {
     "name": "stdout",
     "output_type": "stream",
     "text": [
      "           car_ID   symboling    fueltype  aspiration  doornumber    carbody  \\\n",
      "count  205.000000  205.000000  205.000000  205.000000  205.000000  205.00000   \n",
      "mean   103.000000    0.834146    0.097561    0.180488    0.560976    1.80000   \n",
      "std     59.322565    1.245307    0.297446    0.385535    0.497483    0.83666   \n",
      "min      1.000000   -2.000000    0.000000    0.000000    0.000000    0.00000   \n",
      "25%     52.000000    0.000000    0.000000    0.000000    0.000000    1.00000   \n",
      "50%    103.000000    1.000000    0.000000    0.000000    1.000000    2.00000   \n",
      "75%    154.000000    2.000000    0.000000    0.000000    1.000000    2.00000   \n",
      "max    205.000000    3.000000    1.000000    1.000000    1.000000    4.00000   \n",
      "\n",
      "       drivewheel   wheelbase   carlength    carwidth  ...  cylindernumber  \\\n",
      "count  205.000000  205.000000  205.000000  205.000000  ...      205.000000   \n",
      "mean     0.673171   98.756585  174.049268   65.907805  ...        0.502439   \n",
      "std      0.556171    6.021776   12.337289    2.145204  ...        1.254890   \n",
      "min      0.000000   86.600000  141.100000   60.300000  ...        0.000000   \n",
      "25%      0.000000   94.500000  166.300000   64.100000  ...        0.000000   \n",
      "50%      1.000000   97.000000  173.200000   65.500000  ...        0.000000   \n",
      "75%      1.000000  102.400000  183.100000   66.900000  ...        0.000000   \n",
      "max      2.000000  120.900000  208.100000   72.300000  ...        6.000000   \n",
      "\n",
      "       enginesize   boreratio      stroke  compressionratio  horsepower  \\\n",
      "count  205.000000  205.000000  205.000000        205.000000  205.000000   \n",
      "mean   126.907317    3.329756    3.255415         10.142537  104.117073   \n",
      "std     41.642693    0.270844    0.313597          3.972040   39.544167   \n",
      "min     61.000000    2.540000    2.070000          7.000000   48.000000   \n",
      "25%     97.000000    3.150000    3.110000          8.600000   70.000000   \n",
      "50%    120.000000    3.310000    3.290000          9.000000   95.000000   \n",
      "75%    141.000000    3.580000    3.410000          9.400000  116.000000   \n",
      "max    326.000000    3.940000    4.170000         23.000000  288.000000   \n",
      "\n",
      "           peakrpm     citympg  highwaympg         price  \n",
      "count   205.000000  205.000000  205.000000    205.000000  \n",
      "mean   5125.121951   25.219512   30.751220  13276.710571  \n",
      "std     476.985643    6.542142    6.886443   7988.852332  \n",
      "min    4150.000000   13.000000   16.000000   5118.000000  \n",
      "25%    4800.000000   19.000000   25.000000   7788.000000  \n",
      "50%    5200.000000   24.000000   30.000000  10295.000000  \n",
      "75%    5500.000000   30.000000   34.000000  16503.000000  \n",
      "max    6600.000000   49.000000   54.000000  45400.000000  \n",
      "\n",
      "[8 rows x 23 columns]\n"
     ]
    }
   ],
   "source": [
    "columns_to_encode = [\"fueltype\",\"aspiration\",\"doornumber\",\"drivewheel\",\"cylindernumber\",\"carbody\",\"enginetype\"]\n",
    "label_mappings = {}\n",
    "for column in columns_to_encode:\n",
    "    unique_categories = data[column].unique()\n",
    "    label_mapping = {}\n",
    "    for i, category in enumerate(unique_categories):\n",
    "        label_mapping[category] = i\n",
    "    label_mappings[column] = label_mapping\n",
    "for column, label_mapping in label_mappings.items():\n",
    "    data[column] = data[column].map(label_mapping)\n",
    "print(data.describe())"
   ]
  },
  {
   "cell_type": "code",
   "execution_count": 55,
   "metadata": {},
   "outputs": [
    {
     "name": "stdout",
     "output_type": "stream",
     "text": [
      "<class 'pandas.core.frame.DataFrame'>\n",
      "RangeIndex: 205 entries, 0 to 204\n",
      "Data columns (total 23 columns):\n",
      " #   Column            Non-Null Count  Dtype  \n",
      "---  ------            --------------  -----  \n",
      " 0   car_ID            205 non-null    int64  \n",
      " 1   symboling         205 non-null    int64  \n",
      " 2   fueltype          205 non-null    int64  \n",
      " 3   aspiration        205 non-null    int64  \n",
      " 4   doornumber        205 non-null    int64  \n",
      " 5   carbody           205 non-null    int64  \n",
      " 6   drivewheel        205 non-null    int64  \n",
      " 7   wheelbase         205 non-null    float64\n",
      " 8   carlength         205 non-null    float64\n",
      " 9   carwidth          205 non-null    float64\n",
      " 10  carheight         205 non-null    float64\n",
      " 11  curbweight        205 non-null    int64  \n",
      " 12  enginetype        205 non-null    int64  \n",
      " 13  cylindernumber    205 non-null    int64  \n",
      " 14  enginesize        205 non-null    int64  \n",
      " 15  boreratio         205 non-null    float64\n",
      " 16  stroke            205 non-null    float64\n",
      " 17  compressionratio  205 non-null    float64\n",
      " 18  horsepower        205 non-null    int64  \n",
      " 19  peakrpm           205 non-null    int64  \n",
      " 20  citympg           205 non-null    int64  \n",
      " 21  highwaympg        205 non-null    int64  \n",
      " 22  price             205 non-null    float64\n",
      "dtypes: float64(8), int64(15)\n",
      "memory usage: 37.0 KB\n"
     ]
    }
   ],
   "source": [
    "data.info()"
   ]
  },
  {
   "cell_type": "markdown",
   "metadata": {},
   "source": [
    "Since all the values are now in numerical form we can do linear regression"
   ]
  },
  {
   "cell_type": "code",
   "execution_count": 56,
   "metadata": {},
   "outputs": [],
   "source": [
    "X = data.drop(\"price\", axis=1)\n",
    "y = data[\"price\"]"
   ]
  },
  {
   "cell_type": "markdown",
   "metadata": {},
   "source": [
    "Using feature scaling"
   ]
  },
  {
   "cell_type": "code",
   "execution_count": 58,
   "metadata": {},
   "outputs": [],
   "source": [
    "fmin = X.min(axis=0)\n",
    "frange = X.max(axis=0) - X.min(axis=0)\n",
    "X = (X - fmin) / frange"
   ]
  },
  {
   "cell_type": "markdown",
   "metadata": {},
   "source": [
    "Train Test Split"
   ]
  },
  {
   "cell_type": "code",
   "execution_count": 59,
   "metadata": {},
   "outputs": [],
   "source": [
    "X_train, X_test, y_train, y_test = train_test_split(X, y, test_size=0.2, random_state=42)"
   ]
  },
  {
   "cell_type": "markdown",
   "metadata": {},
   "source": [
    "Defining the Hyperparameters"
   ]
  },
  {
   "cell_type": "code",
   "execution_count": 77,
   "metadata": {},
   "outputs": [],
   "source": [
    "weights = np.random.randn(X_train.shape[1]) * 0.01\n",
    "bias = 0.01\n",
    "learning_rate = 0.01\n",
    "iterations = 5000\n",
    "alpha = 0.1\n",
    "cost_history = []"
   ]
  },
  {
   "cell_type": "markdown",
   "metadata": {},
   "source": [
    "Linear Regression Model"
   ]
  },
  {
   "cell_type": "code",
   "execution_count": 78,
   "metadata": {},
   "outputs": [
    {
     "name": "stdout",
     "output_type": "stream",
     "text": [
      "R-squared (R²) value: 0.8344\n"
     ]
    },
    {
     "data": {
      "image/png": "[encoded data removed]",
      "text/plain": [
       "<Figure size 1000x600 with 1 Axes>"
      ]
     },
     "metadata": {},
     "output_type": "display_data"
    }
   ],
   "source": [
    "\n",
    "def costFunction(y, predictions, weights, alpha):\n",
    "    N = len(y)\n",
    "    sq_error = (predictions - y) ** 2\n",
    "    regularization_term = (alpha / (2 * N)) * np.sum(weights**2)\n",
    "    return (1.0 / (2 * N)) * sq_error.sum() + regularization_term\n",
    "\n",
    "\n",
    "for i in range(iterations):\n",
    "    predictions = np.dot(X_train, weights) + bias\n",
    "    error = predictions - y_train\n",
    "    N = X_train.shape[0]\n",
    "    dw = (1 / N) * np.dot(X_train.T, error) + (alpha / N) * weights\n",
    "    db = np.sum(error) / N\n",
    "    weights -= learning_rate * dw\n",
    "    bias -= learning_rate * db\n",
    "    current_cost = costFunction(y_train, predictions, weights, alpha)\n",
    "    cost_history.append(current_cost)\n",
    "\n",
    "\n",
    "predictions_test = np.dot(X_test, weights) + bias\n",
    "y_mean = y_test.mean()\n",
    "tss = ((y_test - y_mean) ** 2).sum()\n",
    "rss = ((y_test - predictions_test) ** 2).sum()\n",
    "r_squared = 1 - (rss / tss)\n",
    "\n",
    "print(f'R-squared (R²) value: {r_squared:.4f}')\n",
    "\n",
    "\n",
    "plt.figure(figsize=(10, 6))\n",
    "plt.plot(range(iterations), cost_history)\n",
    "plt.title('Learning Curve')\n",
    "plt.xlabel('Iterations')\n",
    "plt.ylabel('Cost Function Value')\n",
    "plt.grid(True)\n",
    "plt.show()"
   ]
  },
  {
   "cell_type": "code",
   "execution_count": null,
   "id": "09ad89f1",
   "metadata": {},
   "outputs": [],
   "source": []
  }
 ],
 "metadata": {
  "kernelspec": {
   "display_name": "Python 3 (ipykernel)",
   "language": "python",
   "name": "python3"
  },
  "language_info": {
   "codemirror_mode": {
    "name": "ipython",
    "version": 3
   },
   "file_extension": ".py",
   "mimetype": "text/x-python",
   "name": "python",
   "nbconvert_exporter": "python",
   "pygments_lexer": "ipython3",
   "version": "3.11.5"
  }
 },
 "nbformat": 4,
 "nbformat_minor": 5
}
