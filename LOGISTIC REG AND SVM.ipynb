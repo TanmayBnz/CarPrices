{
 "cells": [
  {
   "cell_type": "code",
   "execution_count": 7,
   "metadata": {},
   "outputs": [],
   "source": [
    "import numpy as np\n",
    "import pandas as pd\n",
    "from sklearn.model_selection import train_test_split\n",
    "from sklearn.preprocessing import StandardScaler\n",
    "import matplotlib.pyplot as plt"
   ]
  },
  {
   "cell_type": "code",
   "execution_count": 8,
   "metadata": {},
   "outputs": [],
   "source": [
    "\n",
    "def svm_train(X, y, learning_rate=0.01, num_epochs=10000, C=1.0):\n",
    "    m, n = X.shape\n",
    "    y = y.reshape(-1, 1)\n",
    "    theta = np.zeros((n, 1))\n",
    "    bias = 0\n",
    "\n",
    "    for epoch in range(num_epochs):\n",
    "        margin = 1 - y * (np.dot(X, theta) + bias)\n",
    "        margin[margin < 0] = 0  # max(0, margin)\n",
    "        hinge_loss = C * np.sum(margin) / m\n",
    "\n",
    "\n",
    "        misclassified = (margin > 0).astype(int)\n",
    "        misclassified_sum = np.sum(-y * misclassified, axis=0).reshape(-1, 1)\n",
    "        dtheta = theta + (C / m) * misclassified_sum\n",
    "        dbias = (C / m) * np.sum(-y * misclassified)\n",
    "\n",
    "\n",
    "        theta -= learning_rate * dtheta\n",
    "        bias -= learning_rate * dbias\n",
    "\n",
    "    return theta, bias\n",
    "\n",
    "def svm_predict(X, theta, bias):\n",
    "    predictions = np.dot(X, theta) + bias\n",
    "    return np.sign(predictions)\n"
   ]
  },
  {
   "cell_type": "code",
   "execution_count": null,
   "metadata": {},
   "outputs": [],
   "source": [
    "\n",
    "\n",
    "def sigmoid(z):\n",
    "    return 1 / (1 + np.exp(-z))\n",
    "\n",
    "def logistic_regression_train(X, y, learning_rate=0.001, num_epochs=5000):\n",
    "    m, n = X.shape\n",
    "    y = y.reshape(-1, 1)\n",
    "    theta = np.zeros((n, 1))\n",
    "    bias = 0\n",
    "\n",
    "    for epoch in range(num_epochs):\n",
    "        predictions = sigmoid(np.dot(X, theta) + bias)\n",
    "        error = predictions - y\n",
    "\n",
    "\n",
    "        dtheta = np.dot(X.T, error) / m\n",
    "        dbias = np.sum(error) / m\n",
    "\n",
    "\n",
    "        theta -= learning_rate * dtheta\n",
    "        bias -= learning_rate * dbias\n",
    "\n",
    "    return theta, bias\n",
    "\n",
    "def logistic_regression_predict(X, theta, bias):\n",
    "    predictions = sigmoid(np.dot(X, theta) + bias)\n",
    "    return np.round(predictions)\n",
    "\n"
   ]
  },
  {
   "cell_type": "code",
   "execution_count": 9,
   "metadata": {},
   "outputs": [
    {
     "name": "stdout",
     "output_type": "stream",
     "text": [
      "Accuracy for SVM: 0.4134078212290503\n",
      "Accuracy for Logistic Regression: 0.7821229050279329\n"
     ]
    }
   ],
   "source": [
    "\n",
    "data = pd.read_csv(r\"C:\\Users\\asus\\Downloads\\titanic.csv\")\n",
    "\n",
    "\n",
    "data = data.drop(['PassengerId', 'Name', 'Ticket', 'Cabin'], axis=1)\n",
    "\n",
    "\n",
    "data['Age'].fillna(data['Age'].median(), inplace=True)\n",
    "data['Embarked'].fillna(data['Embarked'].mode()[0], inplace=True)\n",
    "data['Fare'].fillna(data['Fare'].median(), inplace=True)\n",
    "\n",
    "\n",
    "data['Sex'] = data['Sex'].map({'female': 0, 'male': 1})\n",
    "data = pd.get_dummies(data, columns=['Embarked'], drop_first=True)\n",
    "\n",
    "\n",
    "X = data.drop('Survived', axis=1)\n",
    "y = data['Survived'].values\n",
    "\n",
    "\n",
    "scaler = StandardScaler()\n",
    "X_scaled = scaler.fit_transform(X)\n",
    "\n",
    "\n",
    "X_train, X_test, y_train, y_test = train_test_split(X_scaled, y, test_size=0.2, random_state=42)\n",
    "\n",
    "\n",
    "theta_svm, bias_svm = svm_train(X_train, y_train)\n",
    "\n",
    "\n",
    "predictions_svm = svm_predict(X_test, theta_svm, bias_svm)\n",
    "\n",
    "\n",
    "theta_lr, bias_lr = logistic_regression_train(X_train, y_train)\n",
    "\n",
    "predictions_lr = logistic_regression_predict(X_test, theta_lr, bias_lr)\n",
    "from sklearn.metrics import accuracy_score\n",
    "\n",
    "accuracy_svm = accuracy_score(y_test, predictions_svm)\n",
    "print(\"Accuracy for SVM:\", accuracy_svm)\n",
    "\n",
    "accuracy_lr = accuracy_score(y_test, predictions_lr)\n",
    "print(\"Accuracy for Logistic Regression:\", accuracy_lr)\n"
   ]
  },
  {
   "cell_type": "code",
   "execution_count": null,
   "metadata": {},
   "outputs": [],
   "source": []
  }
 ],
 "metadata": {
  "kernelspec": {
   "display_name": "base",
   "language": "python",
   "name": "python3"
  },
  "language_info": {
   "codemirror_mode": {
    "name": "ipython",
    "version": 3
   },
   "file_extension": ".py",
   "mimetype": "text/x-python",
   "name": "python",
   "nbconvert_exporter": "python",
   "pygments_lexer": "ipython3",
   "version": "3.11.5"
  }
 },
 "nbformat": 4,
 "nbformat_minor": 2
}
