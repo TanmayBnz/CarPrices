{
 "cells": [
  {
   "cell_type": "code",
   "execution_count": 58,
   "metadata": {},
   "outputs": [],
   "source": [
    "import cv2 as cv\n",
    "import numpy as np\n",
    "\n",
    "cap = cv.VideoCapture(r\"C:\\Users\\asus\\Downloads\\volleyball_match.mp4\")\n",
    "\n",
    "prev_frame = None\n",
    "\n",
    "while cap.isOpened():\n",
    "    ret, frame = cap.read()\n",
    "    if not ret:\n",
    "        break\n",
    "\n",
    "    hsv_frame = cv.cvtColor(frame, cv.COLOR_BGR2HSV)#trackbar here\n",
    "    lower_yellow = np.array([10, 0, 0])\n",
    "    upper_yellow = np.array([30, 255, 255])\n",
    "    yellow_mask = cv.inRange(hsv_frame, lower_yellow, upper_yellow)\n",
    "\n",
    "    yellow_regions = cv.bitwise_and(frame, frame, mask=yellow_mask)\n",
    "\n",
    "    gray_yellow = cv.cvtColor(yellow_regions, cv.COLOR_BGR2GRAY)\n",
    "\n",
    "    if prev_frame is not None:\n",
    "\n",
    "        diff_frame = cv.absdiff(gray_yellow, prev_frame)\n",
    "\n",
    "        _, thresholded = cv.threshold(diff_frame, 30, 255, cv.THRESH_BINARY)\n",
    "\n",
    "\n",
    "        contours, _ = cv.findContours(thresholded, cv.RETR_EXTERNAL, cv.CHAIN_APPROX_SIMPLE)\n",
    "\n",
    "        for contour in contours:\n",
    "            area = cv.contourArea(contour)\n",
    "            if area < 100 or area > 500:\n",
    "                continue\n",
    "\n",
    "            x, y, w, h = cv.boundingRect(contour)\n",
    "            cv.rectangle(frame, (x, y), (x + w, y + h), (0, 255, 0), 2)\n",
    "\n",
    "        cv.imshow('Volleyball Tracking', frame)\n",
    "        cv.imshow('Yellow Regions', yellow_regions)\n",
    "        cv.imshow('Absolute Difference Mask with Morphology', thresholded)\n",
    "\n",
    "    prev_frame = gray_yellow.copy()\n",
    "\n",
    "    if cv.waitKey(20) & 0xFF == 27:  # esc\n",
    "        break\n",
    "\n",
    "cap.release()\n",
    "cv.destroyAllWindows()\n"
   ]
  },
  {
   "cell_type": "code",
   "execution_count": null,
   "metadata": {},
   "outputs": [],
   "source": []
  }
 ],
 "metadata": {
  "kernelspec": {
   "display_name": "Python 3",
   "language": "python",
   "name": "python3"
  },
  "language_info": {
   "codemirror_mode": {
    "name": "ipython",
    "version": 3
   },
   "file_extension": ".py",
   "mimetype": "text/x-python",
   "name": "python",
   "nbconvert_exporter": "python",
   "pygments_lexer": "ipython3",
   "version": "3.12.0"
  }
 },
 "nbformat": 4,
 "nbformat_minor": 2
}
