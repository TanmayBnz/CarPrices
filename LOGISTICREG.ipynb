{
 "cells": [
  {
   "cell_type": "code",
   "execution_count": 10,
   "metadata": {},
   "outputs": [
    {
     "name": "stdout",
     "output_type": "stream",
     "text": [
      "Accuracy value: 0.7175043327556326\n"
     ]
    }
   ],
   "source": [
    "import numpy as np\n",
    "import pandas as pd\n",
    "import matplotlib.pyplot as plt\n",
    "\n",
    "data = pd.read_csv(r\"C:\\Users\\asus\\Downloads\\train(2).csv\")\n",
    "\n",
    "data['Sex'] = data['Sex'].map({'male': 0, 'female': 1})\n",
    "\n",
    "X = data[['Pclass', 'Sex', 'Age', 'Siblings/Spouses Aboard', 'Parents/Children Aboard', 'Fare']].values\n",
    "y = data['Survived'].values\n",
    "\n",
    "X = np.insert(X, 0, 1, axis=1)\n",
    "\n",
    "def sigmoid(z):\n",
    "    return 1 / (1 + np.exp(-z))\n",
    "\n",
    "def cost_function(X, y, weights):\n",
    "    m = len(y)\n",
    "    h = sigmoid(np.dot(X, weights))\n",
    "    epsilon = 1e-15\n",
    "    cost = -(1/m) * np.sum(y * np.log(h + epsilon) + (1 - y) * np.log(1 - h + epsilon))\n",
    "    return cost\n",
    "\n",
    "def gradient_descent(X, y, weights, alpha, iterations):\n",
    "    m = len(y)\n",
    "    cost_history = []\n",
    "\n",
    "    for i in range(iterations):\n",
    "        weights = weights - (alpha/m) * np.dot(X.T, sigmoid(np.dot(X, weights)) - y)\n",
    "        cost_history.append(cost_function(X, y, weights))\n",
    "\n",
    "    return weights, cost_history\n",
    "\n",
    "weights = np.zeros(X.shape[1])\n",
    "alpha = 0.01\n",
    "iterations = 6000\n",
    "\n",
    "def accuracy(y_true, y_pred):\n",
    "    y_pred_class = np.round(y_pred)\n",
    "    correct_predictions = np.sum(y_true == y_pred_class)\n",
    "    total_samples = len(y_true)\n",
    "    acc = correct_predictions / total_samples\n",
    "    return acc\n",
    "\n",
    "weights, cost_history = gradient_descent(X, y, weights, alpha, iterations)\n",
    "y_pred = sigmoid(np.dot(X, weights))\n",
    "acc_value = accuracy(y, y_pred)\n",
    "\n",
    "print(\"Accuracy value:\", acc_value)\n",
    "\n"
   ]
  },
  {
   "cell_type": "code",
   "execution_count": null,
   "metadata": {},
   "outputs": [],
   "source": []
  }
 ],
 "metadata": {
  "kernelspec": {
   "display_name": "Python 3",
   "language": "python",
   "name": "python3"
  },
  "language_info": {
   "codemirror_mode": {
    "name": "ipython",
    "version": 3
   },
   "file_extension": ".py",
   "mimetype": "text/x-python",
   "name": "python",
   "nbconvert_exporter": "python",
   "pygments_lexer": "ipython3",
   "version": "3.12.0"
  }
 },
 "nbformat": 4,
 "nbformat_minor": 2
}
